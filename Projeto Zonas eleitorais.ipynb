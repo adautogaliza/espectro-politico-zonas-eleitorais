{
 "cells": [
  {
   "cell_type": "markdown",
   "metadata": {},
   "source": [
    "### Prevendo o espectro político das Zonas Eleitorais no Estado do Piauí\n",
    "\n",
    "O dataset utilizado pode ser baixado no repositório deste [projeto](https://github.com/adautogaliza/espectro-politico-zonas-eleitorais)."
   ]
  },
  {
   "cell_type": "markdown",
   "metadata": {},
   "source": [
    "### Explorando o dataset e aplicando primeiros tratamentos"
   ]
  },
  {
   "cell_type": "code",
   "execution_count": 55,
   "metadata": {},
   "outputs": [],
   "source": [
    "# Bibliotecas básicas\n",
    "import pandas as pd\n",
    "import numpy as np\n",
    "import matplotlib.pyplot as plt\n",
    "import seaborn as sns"
   ]
  },
  {
   "cell_type": "code",
   "execution_count": 56,
   "metadata": {},
   "outputs": [],
   "source": [
    "# Importando dados\n",
    "\n",
    "dados_bruto = pd.read_csv('dataset_eleitoral.csv', sep=';')"
   ]
  },
  {
   "cell_type": "code",
   "execution_count": 57,
   "metadata": {},
   "outputs": [
    {
     "data": {
      "text/plain": [
       "(8908, 51)"
      ]
     },
     "execution_count": 57,
     "metadata": {},
     "output_type": "execute_result"
    }
   ],
   "source": [
    "# Estrutura do dataset\n",
    "dados_bruto.shape"
   ]
  },
  {
   "cell_type": "code",
   "execution_count": 58,
   "metadata": {},
   "outputs": [
    {
     "name": "stdout",
     "output_type": "stream",
     "text": [
      "<class 'pandas.core.frame.DataFrame'>\n",
      "RangeIndex: 8908 entries, 0 to 8907\n",
      "Data columns (total 51 columns):\n",
      " #   Column                         Non-Null Count  Dtype  \n",
      "---  ------                         --------------  -----  \n",
      " 0   Unnamed: 0                     8908 non-null   int64  \n",
      " 1   ZONA                           8908 non-null   int64  \n",
      " 2   SEÇÃO                          8908 non-null   int64  \n",
      " 3   CD_MUNICIPIO                   8908 non-null   int64  \n",
      " 4   MUNICIPIO                      8908 non-null   object \n",
      " 5   ANO_ELEICAO                    8908 non-null   int64  \n",
      " 6   UF                             8908 non-null   object \n",
      " 7   FEMININO                       8908 non-null   float64\n",
      " 8   MASCULINO                      8908 non-null   float64\n",
      " 9   GÊNERO NÃO INFORMADO           1 non-null      float64\n",
      " 10  CASADO                         8907 non-null   float64\n",
      " 11  DIVORCIADO                     8352 non-null   float64\n",
      " 12  ESTADO CIVIL NÃO INFORMADO     4 non-null      float64\n",
      " 13  SEPARADO JUDICIALMENTE         6779 non-null   float64\n",
      " 14  SOLTEIRO                       8908 non-null   float64\n",
      " 15  VIÚVO                          8616 non-null   float64\n",
      " 16  Idade 100 anos ou mais         8908 non-null   float64\n",
      " 17  Idade 16 anos                  8908 non-null   float64\n",
      " 18  Idade 17 anos                  8908 non-null   float64\n",
      " 19  Idade 18 anos                  8908 non-null   float64\n",
      " 20  Idade 19 anos                  8908 non-null   float64\n",
      " 21  Idade 20 anos                  8908 non-null   float64\n",
      " 22  Idade 21 a 24 anos             8908 non-null   float64\n",
      " 23  Idade 25 a 29 anos             8908 non-null   float64\n",
      " 24  Idade 30 a 34 anos             8908 non-null   float64\n",
      " 25  Idade 35 a 39 anos             8908 non-null   float64\n",
      " 26  Idade 40 a 44 anos             8908 non-null   float64\n",
      " 27  Idade 45 a 49 anos             8908 non-null   float64\n",
      " 28  Idade 50 a 54 anos             8908 non-null   float64\n",
      " 29  Idade 55 a 59 anos             8908 non-null   float64\n",
      " 30  Idade 60 a 64 anos             8908 non-null   float64\n",
      " 31  Idade 65 a 69 anos             8908 non-null   float64\n",
      " 32  Idade 70 a 74 anos             8908 non-null   float64\n",
      " 33  Idade 75 a 79 anos             8908 non-null   float64\n",
      " 34  Idade 80 a 84 anos             8908 non-null   float64\n",
      " 35  Idade 85 a 89 anos             8908 non-null   float64\n",
      " 36  Idade 90 a 94 anos             8908 non-null   float64\n",
      " 37  Idade 95 a 99 anos             8908 non-null   float64\n",
      " 38  Idade Inválido                 8908 non-null   float64\n",
      " 39  ANALFABETO                     8908 non-null   float64\n",
      " 40  ENSINO FUNDAMENTAL COMPLETO    8908 non-null   float64\n",
      " 41  ENSINO FUNDAMENTAL INCOMPLETO  8908 non-null   float64\n",
      " 42  ENSINO MÉDIO COMPLETO          8908 non-null   float64\n",
      " 43  ENSINO MÉDIO INCOMPLETO        8908 non-null   float64\n",
      " 44  LÊ E ESCREVE                   8908 non-null   float64\n",
      " 45  NÃO INFORMADO                  8908 non-null   float64\n",
      " 46  SUPERIOR COMPLETO              8908 non-null   float64\n",
      " 47  SUPERIOR INCOMPLETO            8908 non-null   float64\n",
      " 48  TOTAL_ELEITORES                8908 non-null   float64\n",
      " 49  ESPECTRO POLITICO              8908 non-null   object \n",
      " 50  TOTAL_VOTOS                    8908 non-null   int64  \n",
      "dtypes: float64(42), int64(6), object(3)\n",
      "memory usage: 3.5+ MB\n"
     ]
    }
   ],
   "source": [
    "# Tipagem dos dados\n",
    "\n",
    "dados_bruto.info()"
   ]
  },
  {
   "cell_type": "code",
   "execution_count": 59,
   "metadata": {},
   "outputs": [
    {
     "data": {
      "text/plain": [
       "Index(['Unnamed: 0', 'ZONA', 'SEÇÃO', 'CD_MUNICIPIO', 'MUNICIPIO',\n",
       "       'ANO_ELEICAO', 'UF', 'FEMININO', 'MASCULINO', 'GÊNERO NÃO INFORMADO',\n",
       "       'CASADO', 'DIVORCIADO', 'ESTADO CIVIL NÃO INFORMADO',\n",
       "       'SEPARADO JUDICIALMENTE', 'SOLTEIRO', 'VIÚVO', 'Idade 100 anos ou mais',\n",
       "       'Idade 16 anos', 'Idade 17 anos', 'Idade 18 anos', 'Idade 19 anos',\n",
       "       'Idade 20 anos', 'Idade 21 a 24 anos', 'Idade 25 a 29 anos',\n",
       "       'Idade 30 a 34 anos', 'Idade 35 a 39 anos', 'Idade 40 a 44 anos',\n",
       "       'Idade 45 a 49 anos', 'Idade 50 a 54 anos', 'Idade 55 a 59 anos',\n",
       "       'Idade 60 a 64 anos', 'Idade 65 a 69 anos', 'Idade 70 a 74 anos',\n",
       "       'Idade 75 a 79 anos', 'Idade 80 a 84 anos', 'Idade 85 a 89 anos',\n",
       "       'Idade 90 a 94 anos', 'Idade 95 a 99 anos', 'Idade Inválido',\n",
       "       'ANALFABETO', 'ENSINO FUNDAMENTAL COMPLETO',\n",
       "       'ENSINO FUNDAMENTAL INCOMPLETO', 'ENSINO MÉDIO COMPLETO',\n",
       "       'ENSINO MÉDIO INCOMPLETO', 'LÊ E ESCREVE', 'NÃO INFORMADO',\n",
       "       'SUPERIOR COMPLETO', 'SUPERIOR INCOMPLETO', 'TOTAL_ELEITORES',\n",
       "       'ESPECTRO POLITICO', 'TOTAL_VOTOS'],\n",
       "      dtype='object')"
      ]
     },
     "execution_count": 59,
     "metadata": {},
     "output_type": "execute_result"
    }
   ],
   "source": [
    "# verificando features disponíveis\n",
    "\n",
    "dados_bruto.columns"
   ]
  },
  {
   "cell_type": "code",
   "execution_count": 60,
   "metadata": {},
   "outputs": [
    {
     "data": {
      "text/html": [
       "<div>\n",
       "<style scoped>\n",
       "    .dataframe tbody tr th:only-of-type {\n",
       "        vertical-align: middle;\n",
       "    }\n",
       "\n",
       "    .dataframe tbody tr th {\n",
       "        vertical-align: top;\n",
       "    }\n",
       "\n",
       "    .dataframe thead th {\n",
       "        text-align: right;\n",
       "    }\n",
       "</style>\n",
       "<table border=\"1\" class=\"dataframe\">\n",
       "  <thead>\n",
       "    <tr style=\"text-align: right;\">\n",
       "      <th></th>\n",
       "      <th>Unnamed: 0</th>\n",
       "      <th>ZONA</th>\n",
       "      <th>SEÇÃO</th>\n",
       "      <th>CD_MUNICIPIO</th>\n",
       "      <th>MUNICIPIO</th>\n",
       "      <th>ANO_ELEICAO</th>\n",
       "      <th>UF</th>\n",
       "      <th>FEMININO</th>\n",
       "      <th>MASCULINO</th>\n",
       "      <th>GÊNERO NÃO INFORMADO</th>\n",
       "      <th>...</th>\n",
       "      <th>ENSINO FUNDAMENTAL INCOMPLETO</th>\n",
       "      <th>ENSINO MÉDIO COMPLETO</th>\n",
       "      <th>ENSINO MÉDIO INCOMPLETO</th>\n",
       "      <th>LÊ E ESCREVE</th>\n",
       "      <th>NÃO INFORMADO</th>\n",
       "      <th>SUPERIOR COMPLETO</th>\n",
       "      <th>SUPERIOR INCOMPLETO</th>\n",
       "      <th>TOTAL_ELEITORES</th>\n",
       "      <th>ESPECTRO POLITICO</th>\n",
       "      <th>TOTAL_VOTOS</th>\n",
       "    </tr>\n",
       "  </thead>\n",
       "  <tbody>\n",
       "    <tr>\n",
       "      <th>0</th>\n",
       "      <td>0</td>\n",
       "      <td>1</td>\n",
       "      <td>57</td>\n",
       "      <td>12190</td>\n",
       "      <td>TERESINA</td>\n",
       "      <td>2022</td>\n",
       "      <td>PI</td>\n",
       "      <td>197.0</td>\n",
       "      <td>171.0</td>\n",
       "      <td>NaN</td>\n",
       "      <td>...</td>\n",
       "      <td>38.0</td>\n",
       "      <td>130.0</td>\n",
       "      <td>41.0</td>\n",
       "      <td>17.0</td>\n",
       "      <td>0.0</td>\n",
       "      <td>81.0</td>\n",
       "      <td>43.0</td>\n",
       "      <td>368.0</td>\n",
       "      <td>Direita</td>\n",
       "      <td>479</td>\n",
       "    </tr>\n",
       "    <tr>\n",
       "      <th>1</th>\n",
       "      <td>1</td>\n",
       "      <td>1</td>\n",
       "      <td>58</td>\n",
       "      <td>12190</td>\n",
       "      <td>TERESINA</td>\n",
       "      <td>2022</td>\n",
       "      <td>PI</td>\n",
       "      <td>222.0</td>\n",
       "      <td>147.0</td>\n",
       "      <td>NaN</td>\n",
       "      <td>...</td>\n",
       "      <td>41.0</td>\n",
       "      <td>135.0</td>\n",
       "      <td>40.0</td>\n",
       "      <td>22.0</td>\n",
       "      <td>0.0</td>\n",
       "      <td>67.0</td>\n",
       "      <td>42.0</td>\n",
       "      <td>369.0</td>\n",
       "      <td>Direita</td>\n",
       "      <td>464</td>\n",
       "    </tr>\n",
       "    <tr>\n",
       "      <th>2</th>\n",
       "      <td>2</td>\n",
       "      <td>1</td>\n",
       "      <td>59</td>\n",
       "      <td>12190</td>\n",
       "      <td>TERESINA</td>\n",
       "      <td>2022</td>\n",
       "      <td>PI</td>\n",
       "      <td>220.0</td>\n",
       "      <td>149.0</td>\n",
       "      <td>NaN</td>\n",
       "      <td>...</td>\n",
       "      <td>37.0</td>\n",
       "      <td>126.0</td>\n",
       "      <td>44.0</td>\n",
       "      <td>15.0</td>\n",
       "      <td>0.0</td>\n",
       "      <td>78.0</td>\n",
       "      <td>36.0</td>\n",
       "      <td>369.0</td>\n",
       "      <td>Centro-esquerda</td>\n",
       "      <td>421</td>\n",
       "    </tr>\n",
       "    <tr>\n",
       "      <th>3</th>\n",
       "      <td>3</td>\n",
       "      <td>1</td>\n",
       "      <td>60</td>\n",
       "      <td>12190</td>\n",
       "      <td>TERESINA</td>\n",
       "      <td>2022</td>\n",
       "      <td>PI</td>\n",
       "      <td>174.0</td>\n",
       "      <td>129.0</td>\n",
       "      <td>NaN</td>\n",
       "      <td>...</td>\n",
       "      <td>47.0</td>\n",
       "      <td>92.0</td>\n",
       "      <td>30.0</td>\n",
       "      <td>9.0</td>\n",
       "      <td>0.0</td>\n",
       "      <td>72.0</td>\n",
       "      <td>29.0</td>\n",
       "      <td>303.0</td>\n",
       "      <td>Direita</td>\n",
       "      <td>355</td>\n",
       "    </tr>\n",
       "    <tr>\n",
       "      <th>4</th>\n",
       "      <td>4</td>\n",
       "      <td>1</td>\n",
       "      <td>61</td>\n",
       "      <td>12190</td>\n",
       "      <td>TERESINA</td>\n",
       "      <td>2022</td>\n",
       "      <td>PI</td>\n",
       "      <td>178.0</td>\n",
       "      <td>128.0</td>\n",
       "      <td>NaN</td>\n",
       "      <td>...</td>\n",
       "      <td>41.0</td>\n",
       "      <td>92.0</td>\n",
       "      <td>36.0</td>\n",
       "      <td>12.0</td>\n",
       "      <td>0.0</td>\n",
       "      <td>67.0</td>\n",
       "      <td>29.0</td>\n",
       "      <td>306.0</td>\n",
       "      <td>Direita</td>\n",
       "      <td>374</td>\n",
       "    </tr>\n",
       "  </tbody>\n",
       "</table>\n",
       "<p>5 rows × 51 columns</p>\n",
       "</div>"
      ],
      "text/plain": [
       "   Unnamed: 0  ZONA  SEÇÃO  CD_MUNICIPIO MUNICIPIO  ANO_ELEICAO  UF  FEMININO  \\\n",
       "0           0     1     57         12190  TERESINA         2022  PI     197.0   \n",
       "1           1     1     58         12190  TERESINA         2022  PI     222.0   \n",
       "2           2     1     59         12190  TERESINA         2022  PI     220.0   \n",
       "3           3     1     60         12190  TERESINA         2022  PI     174.0   \n",
       "4           4     1     61         12190  TERESINA         2022  PI     178.0   \n",
       "\n",
       "   MASCULINO  GÊNERO NÃO INFORMADO  ...  ENSINO FUNDAMENTAL INCOMPLETO  \\\n",
       "0      171.0                   NaN  ...                           38.0   \n",
       "1      147.0                   NaN  ...                           41.0   \n",
       "2      149.0                   NaN  ...                           37.0   \n",
       "3      129.0                   NaN  ...                           47.0   \n",
       "4      128.0                   NaN  ...                           41.0   \n",
       "\n",
       "   ENSINO MÉDIO COMPLETO  ENSINO MÉDIO INCOMPLETO  LÊ E ESCREVE  \\\n",
       "0                  130.0                     41.0          17.0   \n",
       "1                  135.0                     40.0          22.0   \n",
       "2                  126.0                     44.0          15.0   \n",
       "3                   92.0                     30.0           9.0   \n",
       "4                   92.0                     36.0          12.0   \n",
       "\n",
       "   NÃO INFORMADO  SUPERIOR COMPLETO  SUPERIOR INCOMPLETO  TOTAL_ELEITORES  \\\n",
       "0            0.0               81.0                 43.0            368.0   \n",
       "1            0.0               67.0                 42.0            369.0   \n",
       "2            0.0               78.0                 36.0            369.0   \n",
       "3            0.0               72.0                 29.0            303.0   \n",
       "4            0.0               67.0                 29.0            306.0   \n",
       "\n",
       "   ESPECTRO POLITICO  TOTAL_VOTOS  \n",
       "0            Direita          479  \n",
       "1            Direita          464  \n",
       "2    Centro-esquerda          421  \n",
       "3            Direita          355  \n",
       "4            Direita          374  \n",
       "\n",
       "[5 rows x 51 columns]"
      ]
     },
     "execution_count": 60,
     "metadata": {},
     "output_type": "execute_result"
    }
   ],
   "source": [
    "# Verificando a estrutura tabular\n",
    "\n",
    "dados_bruto.head()"
   ]
  },
  {
   "cell_type": "markdown",
   "metadata": {},
   "source": [
    "As colunas ``genero e estado civil nao informadas`` serão retiradas porque são majoritariamente compostas de NaN's.\n",
    "\n",
    "Demais colunas como Seção, CD_MUNICIPIO e etc. forma retiradas pois não agregaram valor para a previsão desejada."
   ]
  },
  {
   "cell_type": "code",
   "execution_count": 61,
   "metadata": {},
   "outputs": [
    {
     "data": {
      "text/plain": [
       "Unnamed: 0                          0\n",
       "ZONA                                0\n",
       "SEÇÃO                               0\n",
       "CD_MUNICIPIO                        0\n",
       "MUNICIPIO                           0\n",
       "ANO_ELEICAO                         0\n",
       "UF                                  0\n",
       "FEMININO                            0\n",
       "MASCULINO                           0\n",
       "GÊNERO NÃO INFORMADO             8907\n",
       "CASADO                              1\n",
       "DIVORCIADO                        556\n",
       "ESTADO CIVIL NÃO INFORMADO       8904\n",
       "SEPARADO JUDICIALMENTE           2129\n",
       "SOLTEIRO                            0\n",
       "VIÚVO                             292\n",
       "Idade 100 anos ou mais              0\n",
       "Idade 16 anos                       0\n",
       "Idade 17 anos                       0\n",
       "Idade 18 anos                       0\n",
       "Idade 19 anos                       0\n",
       "Idade 20 anos                       0\n",
       "Idade 21 a 24 anos                  0\n",
       "Idade 25 a 29 anos                  0\n",
       "Idade 30 a 34 anos                  0\n",
       "Idade 35 a 39 anos                  0\n",
       "Idade 40 a 44 anos                  0\n",
       "Idade 45 a 49 anos                  0\n",
       "Idade 50 a 54 anos                  0\n",
       "Idade 55 a 59 anos                  0\n",
       "Idade 60 a 64 anos                  0\n",
       "Idade 65 a 69 anos                  0\n",
       "Idade 70 a 74 anos                  0\n",
       "Idade 75 a 79 anos                  0\n",
       "Idade 80 a 84 anos                  0\n",
       "Idade 85 a 89 anos                  0\n",
       "Idade 90 a 94 anos                  0\n",
       "Idade 95 a 99 anos                  0\n",
       "Idade Inválido                      0\n",
       "ANALFABETO                          0\n",
       "ENSINO FUNDAMENTAL COMPLETO         0\n",
       "ENSINO FUNDAMENTAL INCOMPLETO       0\n",
       "ENSINO MÉDIO COMPLETO               0\n",
       "ENSINO MÉDIO INCOMPLETO             0\n",
       "LÊ E ESCREVE                        0\n",
       "NÃO INFORMADO                       0\n",
       "SUPERIOR COMPLETO                   0\n",
       "SUPERIOR INCOMPLETO                 0\n",
       "TOTAL_ELEITORES                     0\n",
       "ESPECTRO POLITICO                   0\n",
       "TOTAL_VOTOS                         0\n",
       "dtype: int64"
      ]
     },
     "execution_count": 61,
     "metadata": {},
     "output_type": "execute_result"
    }
   ],
   "source": [
    "# verificando Missing Data\n",
    "\n",
    "dados_bruto.isnull().sum()"
   ]
  },
  {
   "cell_type": "code",
   "execution_count": 62,
   "metadata": {},
   "outputs": [],
   "source": [
    "# Removendo colunas desnecessárias\n",
    "\n",
    "dados = dados_bruto.drop(['SEÇÃO','CD_MUNICIPIO','ANO_ELEICAO','UF','TOTAL_ELEITORES','TOTAL_VOTOS','GÊNERO NÃO INFORMADO','ESTADO CIVIL NÃO INFORMADO','Unnamed: 0'],axis=1)"
   ]
  },
  {
   "cell_type": "markdown",
   "metadata": {},
   "source": [
    "Colunas que apresentam NaN's irão receber o valor 0 como substituto. Como tais colunas versam sobre a quantidade de eleitores com aquela característica, é razoável imputar 0 ao invés de valores como moda ou média, pois provavelmente trata-se de casos de ausência da informação dada pelo eleitor no cadastro eleitoral"
   ]
  },
  {
   "cell_type": "code",
   "execution_count": 63,
   "metadata": {},
   "outputs": [],
   "source": [
    "dados.fillna(0, inplace=True)"
   ]
  },
  {
   "cell_type": "code",
   "execution_count": 64,
   "metadata": {},
   "outputs": [],
   "source": [
    "# Mudando label do nosso target\n",
    "\n",
    "dados['ESPECTRO POLITICO'] = dados['ESPECTRO POLITICO'].replace('Centro-esquerda',0)\n",
    "dados['ESPECTRO POLITICO'] = dados['ESPECTRO POLITICO'].replace('Centro',1)\n",
    "dados['ESPECTRO POLITICO'] = dados['ESPECTRO POLITICO'].replace('Direita',2)"
   ]
  },
  {
   "cell_type": "code",
   "execution_count": 65,
   "metadata": {},
   "outputs": [],
   "source": [
    "# Definindo target e features\n",
    "X = dados.drop(['ESPECTRO POLITICO'],axis=1)\n",
    "y = dados['ESPECTRO POLITICO']"
   ]
  },
  {
   "cell_type": "code",
   "execution_count": 66,
   "metadata": {},
   "outputs": [
    {
     "data": {
      "text/html": [
       "<div>\n",
       "<style scoped>\n",
       "    .dataframe tbody tr th:only-of-type {\n",
       "        vertical-align: middle;\n",
       "    }\n",
       "\n",
       "    .dataframe tbody tr th {\n",
       "        vertical-align: top;\n",
       "    }\n",
       "\n",
       "    .dataframe thead th {\n",
       "        text-align: right;\n",
       "    }\n",
       "</style>\n",
       "<table border=\"1\" class=\"dataframe\">\n",
       "  <thead>\n",
       "    <tr style=\"text-align: right;\">\n",
       "      <th></th>\n",
       "      <th>ZONA</th>\n",
       "      <th>MUNICIPIO</th>\n",
       "      <th>FEMININO</th>\n",
       "      <th>MASCULINO</th>\n",
       "      <th>CASADO</th>\n",
       "      <th>DIVORCIADO</th>\n",
       "      <th>SEPARADO JUDICIALMENTE</th>\n",
       "      <th>SOLTEIRO</th>\n",
       "      <th>VIÚVO</th>\n",
       "      <th>Idade 100 anos ou mais</th>\n",
       "      <th>...</th>\n",
       "      <th>ANALFABETO</th>\n",
       "      <th>ENSINO FUNDAMENTAL COMPLETO</th>\n",
       "      <th>ENSINO FUNDAMENTAL INCOMPLETO</th>\n",
       "      <th>ENSINO MÉDIO COMPLETO</th>\n",
       "      <th>ENSINO MÉDIO INCOMPLETO</th>\n",
       "      <th>LÊ E ESCREVE</th>\n",
       "      <th>NÃO INFORMADO</th>\n",
       "      <th>SUPERIOR COMPLETO</th>\n",
       "      <th>SUPERIOR INCOMPLETO</th>\n",
       "      <th>ESPECTRO POLITICO</th>\n",
       "    </tr>\n",
       "  </thead>\n",
       "  <tbody>\n",
       "    <tr>\n",
       "      <th>0</th>\n",
       "      <td>1</td>\n",
       "      <td>TERESINA</td>\n",
       "      <td>197.0</td>\n",
       "      <td>171.0</td>\n",
       "      <td>125.0</td>\n",
       "      <td>19.0</td>\n",
       "      <td>8.0</td>\n",
       "      <td>197.0</td>\n",
       "      <td>19.0</td>\n",
       "      <td>0.0</td>\n",
       "      <td>...</td>\n",
       "      <td>3.0</td>\n",
       "      <td>15.0</td>\n",
       "      <td>38.0</td>\n",
       "      <td>130.0</td>\n",
       "      <td>41.0</td>\n",
       "      <td>17.0</td>\n",
       "      <td>0.0</td>\n",
       "      <td>81.0</td>\n",
       "      <td>43.0</td>\n",
       "      <td>2</td>\n",
       "    </tr>\n",
       "    <tr>\n",
       "      <th>1</th>\n",
       "      <td>1</td>\n",
       "      <td>TERESINA</td>\n",
       "      <td>222.0</td>\n",
       "      <td>147.0</td>\n",
       "      <td>155.0</td>\n",
       "      <td>15.0</td>\n",
       "      <td>4.0</td>\n",
       "      <td>183.0</td>\n",
       "      <td>12.0</td>\n",
       "      <td>0.0</td>\n",
       "      <td>...</td>\n",
       "      <td>6.0</td>\n",
       "      <td>16.0</td>\n",
       "      <td>41.0</td>\n",
       "      <td>135.0</td>\n",
       "      <td>40.0</td>\n",
       "      <td>22.0</td>\n",
       "      <td>0.0</td>\n",
       "      <td>67.0</td>\n",
       "      <td>42.0</td>\n",
       "      <td>2</td>\n",
       "    </tr>\n",
       "    <tr>\n",
       "      <th>2</th>\n",
       "      <td>1</td>\n",
       "      <td>TERESINA</td>\n",
       "      <td>220.0</td>\n",
       "      <td>149.0</td>\n",
       "      <td>147.0</td>\n",
       "      <td>12.0</td>\n",
       "      <td>1.0</td>\n",
       "      <td>197.0</td>\n",
       "      <td>12.0</td>\n",
       "      <td>0.0</td>\n",
       "      <td>...</td>\n",
       "      <td>7.0</td>\n",
       "      <td>26.0</td>\n",
       "      <td>37.0</td>\n",
       "      <td>126.0</td>\n",
       "      <td>44.0</td>\n",
       "      <td>15.0</td>\n",
       "      <td>0.0</td>\n",
       "      <td>78.0</td>\n",
       "      <td>36.0</td>\n",
       "      <td>0</td>\n",
       "    </tr>\n",
       "    <tr>\n",
       "      <th>3</th>\n",
       "      <td>1</td>\n",
       "      <td>TERESINA</td>\n",
       "      <td>174.0</td>\n",
       "      <td>129.0</td>\n",
       "      <td>105.0</td>\n",
       "      <td>14.0</td>\n",
       "      <td>7.0</td>\n",
       "      <td>163.0</td>\n",
       "      <td>14.0</td>\n",
       "      <td>0.0</td>\n",
       "      <td>...</td>\n",
       "      <td>2.0</td>\n",
       "      <td>22.0</td>\n",
       "      <td>47.0</td>\n",
       "      <td>92.0</td>\n",
       "      <td>30.0</td>\n",
       "      <td>9.0</td>\n",
       "      <td>0.0</td>\n",
       "      <td>72.0</td>\n",
       "      <td>29.0</td>\n",
       "      <td>2</td>\n",
       "    </tr>\n",
       "    <tr>\n",
       "      <th>4</th>\n",
       "      <td>1</td>\n",
       "      <td>TERESINA</td>\n",
       "      <td>178.0</td>\n",
       "      <td>128.0</td>\n",
       "      <td>120.0</td>\n",
       "      <td>17.0</td>\n",
       "      <td>1.0</td>\n",
       "      <td>153.0</td>\n",
       "      <td>15.0</td>\n",
       "      <td>0.0</td>\n",
       "      <td>...</td>\n",
       "      <td>6.0</td>\n",
       "      <td>23.0</td>\n",
       "      <td>41.0</td>\n",
       "      <td>92.0</td>\n",
       "      <td>36.0</td>\n",
       "      <td>12.0</td>\n",
       "      <td>0.0</td>\n",
       "      <td>67.0</td>\n",
       "      <td>29.0</td>\n",
       "      <td>2</td>\n",
       "    </tr>\n",
       "  </tbody>\n",
       "</table>\n",
       "<p>5 rows × 42 columns</p>\n",
       "</div>"
      ],
      "text/plain": [
       "   ZONA MUNICIPIO  FEMININO  MASCULINO  CASADO  DIVORCIADO  \\\n",
       "0     1  TERESINA     197.0      171.0   125.0        19.0   \n",
       "1     1  TERESINA     222.0      147.0   155.0        15.0   \n",
       "2     1  TERESINA     220.0      149.0   147.0        12.0   \n",
       "3     1  TERESINA     174.0      129.0   105.0        14.0   \n",
       "4     1  TERESINA     178.0      128.0   120.0        17.0   \n",
       "\n",
       "   SEPARADO JUDICIALMENTE  SOLTEIRO  VIÚVO  Idade 100 anos ou mais  ...  \\\n",
       "0                     8.0     197.0   19.0                     0.0  ...   \n",
       "1                     4.0     183.0   12.0                     0.0  ...   \n",
       "2                     1.0     197.0   12.0                     0.0  ...   \n",
       "3                     7.0     163.0   14.0                     0.0  ...   \n",
       "4                     1.0     153.0   15.0                     0.0  ...   \n",
       "\n",
       "   ANALFABETO  ENSINO FUNDAMENTAL COMPLETO  ENSINO FUNDAMENTAL INCOMPLETO  \\\n",
       "0         3.0                         15.0                           38.0   \n",
       "1         6.0                         16.0                           41.0   \n",
       "2         7.0                         26.0                           37.0   \n",
       "3         2.0                         22.0                           47.0   \n",
       "4         6.0                         23.0                           41.0   \n",
       "\n",
       "   ENSINO MÉDIO COMPLETO  ENSINO MÉDIO INCOMPLETO  LÊ E ESCREVE  \\\n",
       "0                  130.0                     41.0          17.0   \n",
       "1                  135.0                     40.0          22.0   \n",
       "2                  126.0                     44.0          15.0   \n",
       "3                   92.0                     30.0           9.0   \n",
       "4                   92.0                     36.0          12.0   \n",
       "\n",
       "   NÃO INFORMADO  SUPERIOR COMPLETO  SUPERIOR INCOMPLETO  ESPECTRO POLITICO  \n",
       "0            0.0               81.0                 43.0                  2  \n",
       "1            0.0               67.0                 42.0                  2  \n",
       "2            0.0               78.0                 36.0                  0  \n",
       "3            0.0               72.0                 29.0                  2  \n",
       "4            0.0               67.0                 29.0                  2  \n",
       "\n",
       "[5 rows x 42 columns]"
      ]
     },
     "execution_count": 66,
     "metadata": {},
     "output_type": "execute_result"
    }
   ],
   "source": [
    "dados.head()"
   ]
  },
  {
   "cell_type": "code",
   "execution_count": 67,
   "metadata": {},
   "outputs": [
    {
     "data": {
      "image/png": "[encoded data removed]",
      "text/plain": [
       "<Figure size 720x576 with 1 Axes>"
      ]
     },
     "metadata": {},
     "output_type": "display_data"
    }
   ],
   "source": [
    "# Verificando balanceamento do nosso target label\n",
    "\n",
    "g1 = sns.histplot(x=\"ESPECTRO POLITICO\", color=\"Orange\", data=dados)\n",
    "g1.figure.set_size_inches(10,8)\n",
    "plt.title('Distribuição do Target Label', fontsize = 18, loc='left')\n",
    "plt.ylabel(' ')\n",
    "plt.xlabel('Classes', fontsize=15)\n",
    "plt.xticks(fontsize = 15, rotation = 45)\n",
    "plt.yticks(fontsize = 15)\n",
    "sns.despine (left = True)\n",
    "sns.set_style('dark')"
   ]
  },
  {
   "cell_type": "markdown",
   "metadata": {},
   "source": [
    "### Pré-Processamento dos dados e Treinamento dos Modelos:\n",
    "\n",
    "1. Separar os dados em treino e teste pelo método StraitifiedKfold(). Nosso target possui desbalanceamento de classes.\n",
    "\n",
    "2. Usaremos o método de Pipelines para organizar o código em poucas linhas. Este método é recomendado quando precisamos fazer pre-processamento em datasets que tenham features numéricas e categóricas e também para evitar problemas de data leakeage.\n",
    "\n",
    "3. Criaremos três modelos concorrentes: RandomForestClassifier, Naives Bayes e KNN. O objetivo é encontrar o modelo com melhor desempenho primordialmente pelo ``f1score``"
   ]
  },
  {
   "cell_type": "code",
   "execution_count": 68,
   "metadata": {},
   "outputs": [],
   "source": [
    "# Aplicando split (valerá para todos os modelos)\n",
    "from sklearn.model_selection import StratifiedKFold\n",
    "from sklearn.compose import ColumnTransformer\n",
    "from sklearn.pipeline import Pipeline\n",
    "from sklearn.impute import SimpleImputer\n",
    "from sklearn.preprocessing import StandardScaler\n",
    "from sklearn.preprocessing import Normalizer\n",
    "from sklearn.preprocessing import OneHotEncoder\n",
    "from sklearn.metrics import f1_score, accuracy_score\n",
    "\n",
    "separador = StratifiedKFold(n_splits=4, shuffle=True, random_state=0)\n",
    "\n",
    "for treino_index, val_index in separador.split(X, y):\n",
    "  X_treino, X_teste = X.iloc[treino_index, :], X.iloc[val_index, :]\n",
    "  y_treino, y_teste = y.iloc[treino_index], y.iloc[val_index]"
   ]
  },
  {
   "cell_type": "markdown",
   "metadata": {},
   "source": [
    "### 1º Modelo: Random Forest"
   ]
  },
  {
   "cell_type": "code",
   "execution_count": 69,
   "metadata": {},
   "outputs": [],
   "source": [
    "from sklearn.ensemble import RandomForestClassifier\n",
    "\n",
    "# Lista de features categoricas\n",
    "cols_categorica = [coluna for coluna in X_treino.columns if X_treino[coluna].dtype == \"object\"]\n",
    "\n",
    "# Lista de features numéricas\n",
    "cols_numerica = [coluna for coluna in X_treino.columns if X_treino[coluna].dtype in ['int64', 'float64']]\n",
    "\n",
    "# Instanciando transformador numérico: tratamento de NaN's ja realizado, mas instacioamos aqui a normalização dos dados também\n",
    "transformador_numerico = Pipeline(steps=[\n",
    "    ('imputer', SimpleImputer(strategy='constant', fill_value=0)),\n",
    "    ('scaler', Normalizer())\n",
    "])\n",
    "\n",
    "# Instanciando transformador categorico\n",
    "transformador_categorico = Pipeline(steps=[\n",
    "    ('imputer', SimpleImputer(strategy='most_frequent')),\n",
    "    ('onehot', OneHotEncoder(handle_unknown='ignore'))\n",
    "])\n",
    "\n",
    "# Definindo as transformações a serem realizadas\n",
    "processador = ColumnTransformer(\n",
    "    transformers=[\n",
    "        ('num', transformador_numerico, cols_numerica),\n",
    "        ('cat', transformador_categorico, cols_categorica)\n",
    "    ])\n",
    "\n",
    "# Selecionando o 1º modelo de Classificação\n",
    "modelo = RandomForestClassifier(random_state=0)\n",
    "\n",
    "# Criando pipeline (transformadores + modelo)\n",
    "pipeline = Pipeline(steps=[('preprocessor', processador),\n",
    "                              ('model', modelo)\n",
    "                             ])"
   ]
  },
  {
   "cell_type": "code",
   "execution_count": 70,
   "metadata": {},
   "outputs": [
    {
     "name": "stdout",
     "output_type": "stream",
     "text": [
      "Treinamento Concluído\n"
     ]
    }
   ],
   "source": [
    "# Loop para rodar 10 execuções em cada folder criado no split (n_fold = 4)\n",
    "execucoes = 10\n",
    "lista_acuracias = []\n",
    "lista_f1_scores = []\n",
    "\n",
    "for train_index, val_index in separador.split(X, y):\n",
    "    X_treino, X_teste = X.iloc[train_index, :], X.iloc[val_index, :]\n",
    "    y_treino, y_teste = y.iloc[train_index], y.iloc[val_index]\n",
    "    for run in range(execucoes):\n",
    "            \n",
    "      # Treinando o modelo usando o pipeline configurado previamente\n",
    "      pipeline.fit(X_treino, y_treino)\n",
    "      previsao = pipeline.predict(X_teste)\n",
    "      \n",
    "      # Calculando métricas para cada rodada\n",
    "      acc = accuracy_score(y_teste, previsao)\n",
    "      lista_acuracias.append(acc)\n",
    "\n",
    "      _f1_score = f1_score(y_teste, previsao, average='weighted')\n",
    "      lista_f1_scores.append(_f1_score)\n",
    "print(\"Treinamento Concluído\")"
   ]
  },
  {
   "cell_type": "markdown",
   "metadata": {},
   "source": [
    "Desempenho do Modelo:"
   ]
  },
  {
   "cell_type": "code",
   "execution_count": 71,
   "metadata": {},
   "outputs": [
    {
     "name": "stdout",
     "output_type": "stream",
     "text": [
      "A acurácia média entre as execuções foi de 83.85% com desvio padrão de 0.004415348100425961\n",
      "O F1score médio entre as execuções foi de 82.52% com desvio padrão de 0.00580688878824256\n"
     ]
    }
   ],
   "source": [
    "# Calculando média e desvio padrão de acurácia das execuções\n",
    "acc, acc_std = np.array(lista_acuracias).mean(), \\\n",
    "  np.array(lista_acuracias).std()\n",
    "print(f'A acurácia média entre as execuções foi de {round(acc*100,2)}% com desvio padrão de {acc_std}')\n",
    "\n",
    "#Calculando média e desvio padrão de f1score das execuções\n",
    "f1, f1_std = np.array(lista_f1_scores).mean(),\\\n",
    " np.array(lista_f1_scores).std()\n",
    "print(f'O F1score médio entre as execuções foi de {round(f1*100,2)}% com desvio padrão de {f1_std}')"
   ]
  },
  {
   "cell_type": "code",
   "execution_count": 72,
   "metadata": {},
   "outputs": [
    {
     "name": "stderr",
     "output_type": "stream",
     "text": [
      "C:\\Users\\Adauto\\AppData\\Local\\Packages\\PythonSoftwareFoundation.Python.3.10_qbz5n2kfra8p0\\LocalCache\\local-packages\\Python310\\site-packages\\sklearn\\utils\\deprecation.py:87: FutureWarning: Function plot_confusion_matrix is deprecated; Function `plot_confusion_matrix` is deprecated in 1.0 and will be removed in 1.2. Use one of the class methods: ConfusionMatrixDisplay.from_predictions or ConfusionMatrixDisplay.from_estimator.\n",
      "  warnings.warn(msg, category=FutureWarning)\n"
     ]
    },
    {
     "data": {
      "text/plain": [
       "<sklearn.metrics._plot.confusion_matrix.ConfusionMatrixDisplay at 0x15237715870>"
      ]
     },
     "execution_count": 72,
     "metadata": {},
     "output_type": "execute_result"
    },
    {
     "data": {
      "image/png": "[encoded data removed]",
      "text/plain": [
       "<Figure size 432x288 with 2 Axes>"
      ]
     },
     "metadata": {},
     "output_type": "display_data"
    }
   ],
   "source": [
    "# Plotagem da matriz de confusão\n",
    "from sklearn.metrics import plot_confusion_matrix\n",
    "plot_confusion_matrix(pipeline, X_teste, y_teste)"
   ]
  },
  {
   "cell_type": "markdown",
   "metadata": {},
   "source": [
    "### 2º Modelo: KNN"
   ]
  },
  {
   "cell_type": "code",
   "execution_count": 73,
   "metadata": {},
   "outputs": [],
   "source": [
    "from sklearn.neighbors import KNeighborsClassifier\n",
    "\n",
    "# Lista de features categoricas\n",
    "cols_categorica = [coluna for coluna in X_treino.columns if X_treino[coluna].dtype == \"object\"]\n",
    "\n",
    "# Lista de features numéricas\n",
    "cols_numerica = [coluna for coluna in X_treino.columns if X_treino[coluna].dtype in ['int64', 'float64']]\n",
    "\n",
    "# Instanciando transformador numérico: tratamento de NaN's ja realizado, mas instacioamos aqui a normalização dos dados também\n",
    "transformador_numerico = Pipeline(steps=[\n",
    "    ('imputer', SimpleImputer(strategy='constant', fill_value=0)),\n",
    "    ('scaler', Normalizer())\n",
    "])\n",
    "\n",
    "# Instanciando transformador categorico\n",
    "transformador_categorico = Pipeline(steps=[\n",
    "    ('imputer', SimpleImputer(strategy='most_frequent')),\n",
    "    ('onehot', OneHotEncoder(handle_unknown='ignore'))\n",
    "])\n",
    "\n",
    "# Definindo as transformações a serem realizadas\n",
    "processador = ColumnTransformer(\n",
    "    transformers=[\n",
    "        ('num', transformador_numerico, cols_numerica),\n",
    "        ('cat', transformador_categorico, cols_categorica)\n",
    "    ])\n",
    "\n",
    "# Selecionando o 2º modelo de Classificação\n",
    "modelo = KNeighborsClassifier(n_neighbors=5)\n",
    "\n",
    "# Criando pipeline (transformadores + modelo)\n",
    "pipeline = Pipeline(steps=[('preprocessor', processador),\n",
    "                              ('model', modelo)\n",
    "                             ])"
   ]
  },
  {
   "cell_type": "code",
   "execution_count": 74,
   "metadata": {},
   "outputs": [
    {
     "name": "stdout",
     "output_type": "stream",
     "text": [
      "Treinamento Concluído\n"
     ]
    }
   ],
   "source": [
    "# Loop para rodar 10 execuções em cada folder criado no split (n_fold = 4)\n",
    "execucoes = 10\n",
    "lista_acuracias = []\n",
    "lista_f1_scores = []\n",
    "\n",
    "for train_index, val_index in separador.split(X, y):\n",
    "    X_treino, X_teste = X.iloc[train_index, :], X.iloc[val_index, :]\n",
    "    y_treino, y_teste = y.iloc[train_index], y.iloc[val_index]\n",
    "    for run in range(execucoes):\n",
    "            \n",
    "      # Treinando o modelo usando o pipeline configurado previamente\n",
    "      pipeline.fit(X_treino, y_treino)\n",
    "      previsao = pipeline.predict(X_teste)\n",
    "      \n",
    "      # Calculando métricas para cada rodada\n",
    "      acc = accuracy_score(y_teste, previsao)\n",
    "      lista_acuracias.append(acc)\n",
    "\n",
    "      _f1_score = f1_score(y_teste, previsao, average='weighted')\n",
    "      lista_f1_scores.append(_f1_score)\n",
    "print(\"Treinamento Concluído\")"
   ]
  },
  {
   "cell_type": "markdown",
   "metadata": {},
   "source": [
    "Desempenho do Modelo:"
   ]
  },
  {
   "cell_type": "code",
   "execution_count": 75,
   "metadata": {},
   "outputs": [
    {
     "name": "stdout",
     "output_type": "stream",
     "text": [
      "A acurácia média entre as execuções foi de 86.43% com desvio padrão de 0.004516928499939541\n",
      "O F1score médio entre as execuções foi de 86.2% com desvio padrão de 0.004335826755303525\n"
     ]
    }
   ],
   "source": [
    "# Calculando média e desvio padrão de acurácia das execuções\n",
    "acc, acc_std = np.array(lista_acuracias).mean(), \\\n",
    "  np.array(lista_acuracias).std()\n",
    "print(f'A acurácia média entre as execuções foi de {round(acc*100,2)}% com desvio padrão de {acc_std}')\n",
    "\n",
    "#Calculando média e desvio padrão de f1score das execuções\n",
    "f1, f1_std = np.array(lista_f1_scores).mean(),\\\n",
    " np.array(lista_f1_scores).std()\n",
    "print(f'O F1score médio entre as execuções foi de {round(f1*100,2)}% com desvio padrão de {f1_std}')"
   ]
  },
  {
   "cell_type": "code",
   "execution_count": 76,
   "metadata": {},
   "outputs": [
    {
     "name": "stderr",
     "output_type": "stream",
     "text": [
      "C:\\Users\\Adauto\\AppData\\Local\\Packages\\PythonSoftwareFoundation.Python.3.10_qbz5n2kfra8p0\\LocalCache\\local-packages\\Python310\\site-packages\\sklearn\\utils\\deprecation.py:87: FutureWarning: Function plot_confusion_matrix is deprecated; Function `plot_confusion_matrix` is deprecated in 1.0 and will be removed in 1.2. Use one of the class methods: ConfusionMatrixDisplay.from_predictions or ConfusionMatrixDisplay.from_estimator.\n",
      "  warnings.warn(msg, category=FutureWarning)\n"
     ]
    },
    {
     "data": {
      "text/plain": [
       "<sklearn.metrics._plot.confusion_matrix.ConfusionMatrixDisplay at 0x15237c85450>"
      ]
     },
     "execution_count": 76,
     "metadata": {},
     "output_type": "execute_result"
    },
    {
     "data": {
      "image/png": "[encoded data removed]",
      "text/plain": [
       "<Figure size 432x288 with 2 Axes>"
      ]
     },
     "metadata": {},
     "output_type": "display_data"
    }
   ],
   "source": [
    "# Plotagem da matriz de confusão\n",
    "from sklearn.metrics import plot_confusion_matrix\n",
    "plot_confusion_matrix(pipeline, X_teste, y_teste)"
   ]
  },
  {
   "cell_type": "markdown",
   "metadata": {},
   "source": [
    "### 3º Modelo: Regressão Logística"
   ]
  },
  {
   "cell_type": "code",
   "execution_count": 77,
   "metadata": {},
   "outputs": [],
   "source": [
    "from sklearn.linear_model import LogisticRegression\n",
    "\n",
    "# Lista de features categoricas\n",
    "cols_categorica = [coluna for coluna in X_treino.columns if X_treino[coluna].dtype == \"object\"]\n",
    "\n",
    "# Lista de features numéricas\n",
    "cols_numerica = [coluna for coluna in X_treino.columns if X_treino[coluna].dtype in ['int64', 'float64']]\n",
    "\n",
    "# Instanciando transformador numérico: tratamento de NaN's ja realizado, mas instacioamos aqui a normalização dos dados também\n",
    "transformador_numerico = Pipeline(steps=[\n",
    "    ('imputer', SimpleImputer(strategy='constant', fill_value=0)),\n",
    "    ('scaler', Normalizer())\n",
    "])\n",
    "\n",
    "# Instanciando transformador categorico\n",
    "transformador_categorico = Pipeline(steps=[\n",
    "    ('imputer', SimpleImputer(strategy='most_frequent')),\n",
    "    ('onehot', OneHotEncoder(handle_unknown='ignore'))\n",
    "])\n",
    "\n",
    "# Definindo as transformações a serem realizadas\n",
    "processador = ColumnTransformer(\n",
    "    transformers=[\n",
    "        ('num', transformador_numerico, cols_numerica),\n",
    "        ('cat', transformador_categorico, cols_categorica)\n",
    "    ])\n",
    "\n",
    "# Selecionando o 3º modelo de Classificação\n",
    "modelo = LogisticRegression(random_state=0,max_iter=500)\n",
    "\n",
    "# Criando pipeline (transformadores + modelo)\n",
    "pipeline = Pipeline(steps=[('preprocessor', processador),\n",
    "                              ('model', modelo)\n",
    "                             ])"
   ]
  },
  {
   "cell_type": "code",
   "execution_count": 78,
   "metadata": {},
   "outputs": [
    {
     "name": "stdout",
     "output_type": "stream",
     "text": [
      "Treinamento Concluído\n"
     ]
    }
   ],
   "source": [
    "# Loop para rodar 10 execuções em cada folder criado no split (n_fold = 4)\n",
    "execucoes = 10\n",
    "lista_acuracias = []\n",
    "lista_f1_scores = []\n",
    "\n",
    "for train_index, val_index in separador.split(X, y):\n",
    "    X_treino, X_teste = X.iloc[train_index, :], X.iloc[val_index, :]\n",
    "    y_treino, y_teste = y.iloc[train_index], y.iloc[val_index]\n",
    "    for run in range(execucoes):\n",
    "            \n",
    "      # Treinando o modelo usando o pipeline configurado previamente\n",
    "      pipeline.fit(X_treino, y_treino)\n",
    "      previsao = pipeline.predict(X_teste)\n",
    "      \n",
    "      # Calculando métricas para cada rodada\n",
    "      acc = accuracy_score(y_teste, previsao)\n",
    "      lista_acuracias.append(acc)\n",
    "\n",
    "      _f1_score = f1_score(y_teste, previsao, average='weighted')\n",
    "      lista_f1_scores.append(_f1_score)\n",
    "print(\"Treinamento Concluído\")"
   ]
  },
  {
   "cell_type": "markdown",
   "metadata": {},
   "source": [
    "Desempenho do Modelo:"
   ]
  },
  {
   "cell_type": "code",
   "execution_count": 79,
   "metadata": {},
   "outputs": [
    {
     "name": "stdout",
     "output_type": "stream",
     "text": [
      "A acurácia média entre as execuções foi de 87.09% com desvio padrão de 0.003627187791064997\n",
      "O F1score médio entre as execuções foi de 86.7% com desvio padrão de 0.003276193216892493\n"
     ]
    }
   ],
   "source": [
    "# Calculando média e desvio padrão de acurácia das execuções\n",
    "acc, acc_std = np.array(lista_acuracias).mean(), \\\n",
    "  np.array(lista_acuracias).std()\n",
    "print(f'A acurácia média entre as execuções foi de {round(acc*100,2)}% com desvio padrão de {acc_std}')\n",
    "\n",
    "#Calculando média e desvio padrão de f1score das execuções\n",
    "f1, f1_std = np.array(lista_f1_scores).mean(),\\\n",
    " np.array(lista_f1_scores).std()\n",
    "print(f'O F1score médio entre as execuções foi de {round(f1*100,2)}% com desvio padrão de {f1_std}')"
   ]
  },
  {
   "cell_type": "code",
   "execution_count": 80,
   "metadata": {},
   "outputs": [
    {
     "name": "stderr",
     "output_type": "stream",
     "text": [
      "C:\\Users\\Adauto\\AppData\\Local\\Packages\\PythonSoftwareFoundation.Python.3.10_qbz5n2kfra8p0\\LocalCache\\local-packages\\Python310\\site-packages\\sklearn\\utils\\deprecation.py:87: FutureWarning: Function plot_confusion_matrix is deprecated; Function `plot_confusion_matrix` is deprecated in 1.0 and will be removed in 1.2. Use one of the class methods: ConfusionMatrixDisplay.from_predictions or ConfusionMatrixDisplay.from_estimator.\n",
      "  warnings.warn(msg, category=FutureWarning)\n"
     ]
    },
    {
     "data": {
      "text/plain": [
       "<sklearn.metrics._plot.confusion_matrix.ConfusionMatrixDisplay at 0x15237717fa0>"
      ]
     },
     "execution_count": 80,
     "metadata": {},
     "output_type": "execute_result"
    },
    {
     "data": {
      "image/png": "[encoded data removed]",
      "text/plain": [
       "<Figure size 432x288 with 2 Axes>"
      ]
     },
     "metadata": {},
     "output_type": "display_data"
    }
   ],
   "source": [
    "# Plotagem da matriz de confusão\n",
    "from sklearn.metrics import plot_confusion_matrix\n",
    "plot_confusion_matrix(pipeline, X_teste, y_teste)"
   ]
  },
  {
   "cell_type": "markdown",
   "metadata": {},
   "source": [
    "### Conslusões:\n",
    "\n",
    "1. O modelo que melhor desempenha pelo F1score é o de Regressão logística com 86,%, seguido pelo KNN (86,2%) e por último o RandomForest com 82.52%.\n",
    "\n",
    "2. Normalizar os dados ao invés de padronizá-los geram melhores resultados entre os modelos concorrentes. Este teste foi empírico por tentativa e erro e decidimos reportar neste relatório apenas os melhores resultados."
   ]
  }
 ],
 "metadata": {
  "kernelspec": {
   "display_name": "Python 3.10.8 64-bit (microsoft store)",
   "language": "python",
   "name": "python3"
  },
  "language_info": {
   "codemirror_mode": {
    "name": "ipython",
    "version": 3
   },
   "file_extension": ".py",
   "mimetype": "text/x-python",
   "name": "python",
   "nbconvert_exporter": "python",
   "pygments_lexer": "ipython3",
   "version": "3.10.8"
  },
  "orig_nbformat": 4,
  "vscode": {
   "interpreter": {
    "hash": "24c247fb8a096620e482ed040efe31f843bd05f14c52327ea9785b2ad5d0502e"
   }
  }
 },
 "nbformat": 4,
 "nbformat_minor": 2
}
